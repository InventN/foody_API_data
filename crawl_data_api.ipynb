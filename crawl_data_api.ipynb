{
 "cells": [
  {
   "cell_type": "code",
   "execution_count": 21,
   "id": "c1919610",
   "metadata": {},
   "outputs": [],
   "source": [
    "import requests\n",
    "import json"
   ]
  },
  {
   "cell_type": "markdown",
   "id": "20c873ee",
   "metadata": {},
   "source": [
    "- Get all shops"
   ]
  },
  {
   "cell_type": "code",
   "execution_count": null,
   "id": "f2d2c330",
   "metadata": {},
   "outputs": [],
   "source": [
    "url = \"https://www.foody.vn/__get/Place/HomeListPlace?page=1&lat=10.823099&lon=106.629664&count=12&districtId=&cateId=&cuisineId=&isReputation=&type=1\"\n",
    "all_shops_API = requests.get(url, headers={'X-Requested-With': 'XMLHttpRequest',\n",
    "                                            'Cookie': 'floc=217'})\n",
    "data = all_shops_API.text\n",
    "dataJson = json.loads(data)\n",
    "print(dataJson)"
   ]
  },
  {
   "cell_type": "markdown",
   "id": "79fe47d9",
   "metadata": {},
   "source": [
    "- Get menu of ONE shop: fải loop qua từng request_id trong cell code trên"
   ]
  },
  {
   "cell_type": "code",
   "execution_count": 23,
   "id": "ec34e00e",
   "metadata": {},
   "outputs": [],
   "source": [
    "# TEST\n",
    "import pandas as pd\n",
    "\n",
    "qbt_df = pd.read_csv(\"qbt.csv\")"
   ]
  },
  {
   "cell_type": "code",
   "execution_count": 10,
   "id": "8cd3b8ac",
   "metadata": {},
   "outputs": [],
   "source": [
    "menu_df = pd.DataFrame(columns=['dish_type_id', 'dish_type_name'])\n",
    "menu_dish_df = pd.DataFrame(columns=['dish_type_id', 'dish_id', 'dish_name', 'dish_description', 'dish_price_value', 'dish_total_like', 'dish_is_available'])\n",
    "menu_dish_option_df = pd.DataFrame(columns=['dish_type_id', 'dish_id', 'option_id', 'option_min_select', 'option_max_select'])\n",
    "menu_dish_option_item_df = pd.DataFrame(columns=['dish_type_id', 'dish_id', 'option_id', 'item_id', 'item_name', 'item_price'])\n",
    "\n",
    "def get_delivery_dish(id):\n",
    "    delivery_dish_API = requests.get(f\"https://gappapi.deliverynow.vn/api/dish/get_delivery_dishes?request_id={id}&id_type=1\", \n",
    "                                    headers={'x-foody-api-version': '1',\n",
    "                                             'x-foody-app-type': '1004',\n",
    "                                             'x-foody-client-language': 'vi',\n",
    "                                             'x-foody-client-type': '1',\n",
    "                                             'x-foody-client-version': '1',\n",
    "                                             'X-Foody-Client-Id': 'cookies.__ondemand_sessionid'\n",
    "                                        }\n",
    "                                )\n",
    "    data = delivery_dish_API.text\n",
    "    dataJson = json.loads(data)\n",
    "    menu_infos = dataJson['reply']['menu_infos']\n",
    "    for menu_info in menu_infos:\n",
    "        menu_df.loc[len(menu_df.index)] = [menu_info['dish_type_id'], menu_info['dish_type_name']]\n",
    "        for dish in menu_info['dishes']:\n",
    "                menu_dish_df.loc[len(menu_dish_df.index)] = [\n",
    "                        menu_info['dish_type_id'],\n",
    "                        dish['id'],\n",
    "                        dish['name'],\n",
    "                        dish['description'],\n",
    "                        dish['price']['value'],\n",
    "                        dish['total_like'],\n",
    "                        dish['is_available']\n",
    "                ]\n",
    "                for option in dish['options']:\n",
    "                        menu_dish_option_df.loc[len(menu_dish_option_df.index)] = [\n",
    "                                menu_info['dish_type_id'],\n",
    "                                dish['id'],\n",
    "                                option['id'],\n",
    "                                option['option_items']['min_select'],\n",
    "                                option['option_items']['max_select']\n",
    "                        ]\n",
    "                        for item in option['option_items']['items']:\n",
    "                                menu_dish_option_item_df.loc[len(menu_dish_option_item_df.index)] = [\n",
    "                                        menu_info['dish_type_id'],\n",
    "                                        dish['id'],\n",
    "                                        option['id'],\n",
    "                                        item['id'],\n",
    "                                        item['name'],\n",
    "                                        item['price']['value']\n",
    "                                ]\n",
    "\n",
    "for i in qbt_df['RestaurantId']:\n",
    "    get_delivery_dish(i)\n",
    "\n",
    "menu_df.to_csv('menu.csv', sep=',', encoding='utf-8')\n",
    "menu_dish_df.to_csv('menu.dish.csv', sep=',', encoding='utf-8')\n",
    "menu_dish_option_df.to_csv('menu.dish.option.csv', sep=',', encoding='utf-8')\n",
    "menu_dish_option_item_df.to_csv('menu.dish.option.item.csv', sep=',', encoding='utf-8')"
   ]
  },
  {
   "cell_type": "markdown",
   "id": "55e49b62",
   "metadata": {},
   "source": [
    "- get detail of ONE shop"
   ]
  },
  {
   "cell_type": "code",
   "execution_count": null,
   "id": "67256262",
   "metadata": {},
   "outputs": [],
   "source": [
    "shop_df = pd.DataFrame(columns=['shop_id', 'name', 'short_description', 'city_id', 'district_id', 'address', \n",
    "                                'rating_total_review', 'rating_avg', 'rating_app_link',  \n",
    "                                'service_fee', 'avg_price', 'min_order_value', 'min_charge', 'min_shipping_fee', 'min_price', 'max_price', \n",
    "                                'is_foody_delivery', 'week_days', 'start_time', 'end_time'])\n",
    "shop_phone_df = pd.DataFrame(columns=['shop_id', 'phone'])\n",
    "shop_category_df = pd.DataFrame(columns=['shop_id', 'category'])\n",
    "shop_cuisine_df = pd.DataFrame(columns=['shop_id', 'cuisine'])\n",
    "shop_promotion_df = pd.DataFrame(columns=['shop_id', 'promo_code', 'discount_amount', 'min_order_amount', 'max_discount_amount', 'apply_order','max_usage_time', 'expired'])\n",
    "\n",
    "\n",
    "def get_detail(id):\n",
    "        delivery_dish_API = requests.get(f\"https://gappapi.deliverynow.vn/api/delivery/get_detail?request_id={id}&id_type=1\", \n",
    "                                        headers={'x-foody-api-version': '1',\n",
    "                                                'x-foody-app-type': '1004',\n",
    "                                                'x-foody-client-language': 'vi',\n",
    "                                                'x-foody-client-type': '1',\n",
    "                                                'x-foody-client-version': '1',\n",
    "                                                'X-Foody-Client-Id': 'cookies.__ondemand_sessionid'\n",
    "                                                }\n",
    "                                        )\n",
    "        data = delivery_dish_API.text\n",
    "        dataJson = json.loads(data)\n",
    "\n",
    "        shop = dataJson['reply']['delivery_detail']\n",
    "\n",
    "\n",
    "        shop_df.loc[len(shop_df.index)] = [\n",
    "                shop['id'], shop['name'], shop['short_description'], shop['city_id'], shop['district_id'], shop['address'],\n",
    "                shop['rating']['total_review'], shop['rating']['avg'], shop['rating']['app_link'],\n",
    "                shop['delivery']['service_fee']['value'], shop['delivery']['avg_price']['value'], shop['delivery']['min_order_value']['value'],\n",
    "                shop['delivery']['min_charge'], shop['delivery']['shipping_fee']['minimum_fee'],shop['price_range']['min_price'],\n",
    "                shop['price_range']['max_price'],shop['delivery']['is_foody_delivery'],\n",
    "                len(shop['delivery']['time']['week_days']), \n",
    "                shop['delivery']['time']['week_days'][0]['start_time'], \n",
    "                shop['delivery']['time']['week_days'][0]['end_time'] \n",
    "        ]\n",
    "        \n",
    "        for phone in shop['phones']:\n",
    "                shop_phone_df.loc[len(shop_phone_df.index)] = [\n",
    "                        shop['id'],\n",
    "                        phone\n",
    "                ]\n",
    "\n",
    "        for category in shop['categories']:\n",
    "                shop_category_df.loc[len(shop_category_df.index)] = [\n",
    "                        shop['id'],\n",
    "                        category\n",
    "                ]                     \n",
    "\n",
    "        for cuisine in shop['cuisines']:\n",
    "                shop_cuisine_df.loc[len(shop_cuisine_df.index)] = [\n",
    "                        shop['id'],\n",
    "                        cuisine\n",
    "                ]    \n",
    "\n",
    "        for promotion in shop['delivery']['promotions']:\n",
    "                shop_promotion_df.loc[len(shop_promotion_df.index)] = [\n",
    "                        shop['id'], promotion['promo_code'], promotion['discount_amount'], promotion['min_order_amount'], \n",
    "                        promotion['max_discount_amount'], promotion['apply_order'], promotion['user_condition']['limit_per_user']['max_usage_time'], promotion['expired']\n",
    "                ]\n",
    "\n",
    "\n",
    "for i in qbt_df['RestaurantId']:\n",
    "    get_detail(i)\n",
    "\n",
    "\n",
    "\n",
    "shop_df.to_csv('shop.csv', sep=',', encoding='utf-8')\n",
    "shop_phone_df.to_csv('shop.phone.csv', sep=',', encoding='utf-8')\n",
    "shop_category_df.to_csv('shop.category.csv', sep=',', encoding='utf-8')\n",
    "shop_cuisine_df.to_csv('shop.cuisine.csv', sep=',', encoding='utf-8')\n",
    "shop_promotion_df.to_csv('shop.promotion.csv', sep=',', encoding='utf-8')"
   ]
  }
 ],
 "metadata": {
  "kernelspec": {
   "display_name": "Python 3.9.5 64-bit",
   "language": "python",
   "name": "python3"
  },
  "language_info": {
   "codemirror_mode": {
    "name": "ipython",
    "version": 3
   },
   "file_extension": ".py",
   "mimetype": "text/x-python",
   "name": "python",
   "nbconvert_exporter": "python",
   "pygments_lexer": "ipython3",
   "version": "3.9.5"
  },
  "vscode": {
   "interpreter": {
    "hash": "31f2aee4e71d21fbe5cf8b01ff0e069b9275f58929596ceb00d14d90e3e16cd6"
   }
  }
 },
 "nbformat": 4,
 "nbformat_minor": 5
}
