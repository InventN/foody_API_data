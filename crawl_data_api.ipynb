{
 "cells": [
  {
   "cell_type": "code",
   "execution_count": 67,
   "id": "c1919610",
   "metadata": {},
   "outputs": [],
   "source": [
    "import requests\n",
    "import json\n",
    "import pprint\n",
    "import pandas as pd\n",
    "import csv\n",
    "import re\n",
    "from datetime import datetime\n",
    "import time"
   ]
  },
  {
   "cell_type": "markdown",
   "id": "20c873ee",
   "metadata": {},
   "source": [
    "- Get all shops"
   ]
  },
  {
   "cell_type": "code",
   "execution_count": null,
   "id": "f2d2c330",
   "metadata": {},
   "outputs": [],
   "source": [
    "## nháp\n",
    "page=1\n",
    "st=1\n",
    "all_shops_API = requests.get(f\"https://www.foody.vn/ho-chi-minh/dia-diem?vt=row&st={st}&dt=1&page={page}\", \n",
    "                            headers={'X-Requested-With': 'XMLHttpRequest',\n",
    "                                     'Cookie': 'FOODY.AUTH=A3F33DD0BA0DC443960AC294DA1D898EE203A64E31B64523D3674F29D60EF3C3C900F1F3BF70DAC47FD0ED268F012BD8FD06CCA143E3FCC2F79AA22CFF031D91A06F5D97B96B09529CF8E5A06E58BCF34312AFDA1F37E6B39CC56A6BA525D72DEDDF1EFE136334F777A1AD191BC3B393CA5D7B3008AA54A9565C21793E196AB15D19E8867327553F696DDCA2938C22208B84620BAA2F757C9D4B8E2FF3CE8A28E6EBC891AAE2F227C02CF6834427BD815163F0DAB98F2E47CECEA44EE3CB88F9A94D33123EEA15B660CF6DE09385DF9EAFD8741C8B4936BF4B5C40B003150E622D303BAC626EBF7FD60BCB19647A46FC',\n",
    "                                    })\n",
    "data = all_shops_API.text \n",
    "dataJson = json.loads(data)\n",
    "\n",
    "# print(len(dataJson['searchItems']))\n",
    "dataJson"
   ]
  },
  {
   "cell_type": "code",
   "execution_count": 311,
   "id": "cc232c81",
   "metadata": {},
   "outputs": [],
   "source": [
    "def get_single_page(page, st, dist):\n",
    "    '''extract 1 page'''\n",
    "    url = f'https://www.foody.vn/ho-chi-minh/dia-diem?vt=row&st={st}&dt={dist}&page={page}'\n",
    "    all_shops_API = requests.get(url, headers={'X-Requested-With': 'XMLHttpRequest',\n",
    "                                               'Cookie': 'FOODY.AUTH=A3F33DD0BA0DC443960AC294DA1D898EE203A64E31B64523D3674F29D60EF3C3C900F1F3BF70DAC47FD0ED268F012BD8FD06CCA143E3FCC2F79AA22CFF031D91A06F5D97B96B09529CF8E5A06E58BCF34312AFDA1F37E6B39CC56A6BA525D72DEDDF1EFE136334F777A1AD191BC3B393CA5D7B3008AA54A9565C21793E196AB15D19E8867327553F696DDCA2938C22208B84620BAA2F757C9D4B8E2FF3CE8A28E6EBC891AAE2F227C02CF6834427BD815163F0DAB98F2E47CECEA44EE3CB88F9A94D33123EEA15B660CF6DE09385DF9EAFD8741C8B4936BF4B5C40B003150E622D303BAC626EBF7FD60BCB19647A46FC'})\n",
    "    data = all_shops_API.text\n",
    "    json_data = json.loads(data)\n",
    "    if not json_data['searchItems']:\n",
    "        return []\n",
    "    shop_attribs = []\n",
    "    \n",
    "    for shop in json_data['searchItems']: \n",
    "        shop_attribs.append({'ReviewUrl' : shop['ReviewUrl'],\n",
    "                            'Address': shop['Address']}) # bsung \n",
    "    \n",
    "    return shop_attribs # [{},{},..]\n",
    "\n",
    "def get_single_district(dist=1):\n",
    "    '''get all shops in a single district'''\n",
    "    page = 1\n",
    "    all_shop = []\n",
    "    empty = False\n",
    "\n",
    "    for page in range(1,100):\n",
    "        if empty:\n",
    "            break\n",
    "        print(f'page {page}')\n",
    "        st = 1\n",
    "\n",
    "        for st in range(1,100):\n",
    "            print(f'  st = {st}')\n",
    "            one_page = get_single_page(page, st, dist) \n",
    "            time.sleep(1)\n",
    "            if not one_page: # check empty\n",
    "                empty = True\n",
    "                break\n",
    "            all_shop.extend(one_page)\n",
    "    return all_shop # [{},{},..]                       \n",
    "\n",
    "# def get_single_city(city_id='217'):\n",
    "#     all_dist = '1,4,5,6,7,8,9,10,11,12,13,14,15,16,17,19,2,18,693,696,699,695,694,698'.split(',')\n",
    "\n",
    "#     for dist in all_dist:\n"
   ]
  },
  {
   "cell_type": "code",
   "execution_count": null,
   "id": "a4b0399a",
   "metadata": {},
   "outputs": [],
   "source": [
    "shops_in_a_district = get_single_district(dist=698)\n",
    "print(len(shops_in_a_district))\n",
    "\n",
    "df = pd.DataFrame.from_dict(shops_in_a_district) \n",
    "print(f'lọc trùng:', df.drop_duplicates().shape)\n",
    "df.drop_duplicates().to_csv(r'allshop.csv', index = False, header=True, encoding='utf-8')"
   ]
  },
  {
   "cell_type": "markdown",
   "id": "f685a365",
   "metadata": {},
   "source": [
    "---"
   ]
  },
  {
   "cell_type": "code",
   "execution_count": 89,
   "id": "25a01c96",
   "metadata": {
    "scrolled": true
   },
   "outputs": [],
   "source": [
    "def extractshop(page, page, st, dist):\n",
    "    '''extract 1 page'''\n",
    "    url = f'https://www.foody.vn/ho-chi-minh/dia-diem?vt=row&st={st}&dt={dist}&page={page}'\n",
    "    all_shops_API = requests.get(url, headers={'X-Requested-With': 'XMLHttpRequest',\n",
    "                                               'Cookie': 'FOODY.AUTH=A3F33DD0BA0DC443960AC294DA1D898EE203A64E31B64523D3674F29D60EF3C3C900F1F3BF70DAC47FD0ED268F012BD8FD06CCA143E3FCC2F79AA22CFF031D91A06F5D97B96B09529CF8E5A06E58BCF34312AFDA1F37E6B39CC56A6BA525D72DEDDF1EFE136334F777A1AD191BC3B393CA5D7B3008AA54A9565C21793E196AB15D19E8867327553F696DDCA2938C22208B84620BAA2F757C9D4B8E2FF3CE8A28E6EBC891AAE2F227C02CF6834427BD815163F0DAB98F2E47CECEA44EE3CB88F9A94D33123EEA15B660CF6DE09385DF9EAFD8741C8B4936BF4B5C40B003150E622D303BAC626EBF7FD60BCB19647A46FC'})\n",
    "    data = all_shops_API.text\n",
    "    json_data = json.loads(data)\n",
    "    shop_attribs = []\n",
    "    \n",
    "    for shop in json_data['searchItems']: \n",
    "        shop_review.append({'ReviewUrl' : shop['ReviewUrl'],\n",
    "                            'Address': shop['Address']})\n",
    "\n",
    "        # converted_date = shop['ResCreatedOn']\n",
    "        # converted_date = converted_date[7:-2]\n",
    "        # converted_date = int(converted_date)\n",
    "        # converted_date = datetime.fromtimestamp(converted_date // 1000000000)\n",
    "        # converted_date = converted_date.strftime('%d/%m/%Y')\n",
    "        # shop_review.append({'CityId': CityId, \n",
    "        #                     'name': shop['Name'],\n",
    "        #                     'addr': shop['Address'],\n",
    "        #                     'RestaurantId': shop['RestaurantId'],\n",
    "        #                     'RestaurantStatus': shop['RestaurantStatus'],\n",
    "        #                     'avgrating' : shop['AvgRating'],\n",
    "        #                     'TotalPictures' : shop['TotalPictures'],\n",
    "        #                     'TotalSaves' : shop['TotalSaves'],\n",
    "        #                     'TotalReviews' : shop['TotalReviews'],\n",
    "        #                     'TotalFavourites' : shop['TotalFavourites'],\n",
    "        #                     'TotalViews' : shop['TotalViews'],\n",
    "        #                     'TotalCheckIns' : shop['TotalCheckIns'],\n",
    "        #                     'CreatedOn'  : converted_date,\n",
    "        #                     'Latitude'  : shop['Latitude'],\n",
    "        #                     'Longitude'  : shop['Longitude'],\n",
    "        #                     'ResUrlReviews' : shop['ResUrlReviews']})\n",
    "\n",
    "    return shop_review\n",
    "\n",
    "def extractshop_all():\n",
    "    page = 1\n",
    "    all_shop = []\n",
    "    count = 550\n",
    "\n",
    "    while page < 100:\n",
    "        print(f'page {page}')\n",
    "        one_page = extractshop(page, count)\n",
    "        all_shop.extend(one_page)\n",
    "\n",
    "        # if len(one_page) < count:\n",
    "        #     break\n",
    "        # else:\n",
    "        page += 1\n",
    "        time.sleep(1)\n",
    "    return all_shop"
   ]
  },
  {
   "cell_type": "code",
   "execution_count": null,
   "id": "8fff9083",
   "metadata": {},
   "outputs": [],
   "source": [
    "lmao = extractshop_all()\n",
    "print(len(lmao))\n",
    "\n",
    "df = pd.DataFrame.from_dict(lmao) \n",
    "print(f'lọc trùng:', df.drop_duplicates().shape)"
   ]
  },
  {
   "cell_type": "code",
   "execution_count": 70,
   "id": "440faf68",
   "metadata": {},
   "outputs": [],
   "source": [
    "df = pd.DataFrame.from_dict(lmao) \n",
    "df.to_csv (r'allshop.csv', index = False, header=True, encoding='utf-8')"
   ]
  },
  {
   "cell_type": "code",
   "execution_count": 40,
   "id": "21d96dc2",
   "metadata": {},
   "outputs": [
    {
     "data": {
      "text/plain": [
       "(2000, 16)"
      ]
     },
     "execution_count": 40,
     "metadata": {},
     "output_type": "execute_result"
    }
   ],
   "source": [
    "## \n",
    "df.drop_duplicates().shape"
   ]
  },
  {
   "cell_type": "markdown",
   "id": "79fe47d9",
   "metadata": {},
   "source": [
    "- Get menu of ONE shop: fải loop qua từng request_id trong cell code trên"
   ]
  },
  {
   "cell_type": "code",
   "execution_count": null,
   "id": "a62b75f7",
   "metadata": {},
   "outputs": [],
   "source": [
    "# VD: có thể thay request_id = 1031704 để thử\n",
    "request_id = 1031704\n",
    "delivery_dish_API = requests.get(f\"https://gappapi.deliverynow.vn/api/dish/get_delivery_dishes?request_id={request_id}&id_type=1\", \n",
    "                                    headers={'x-foody-api-version': '1',\n",
    "                                            'x-foody-app-type': '1004',\n",
    "                                            'x-foody-client-language': 'vi',\n",
    "                                            'x-foody-client-type': '1',\n",
    "                                            'x-foody-client-version': '1',\n",
    "                                            'X-Foody-Client-Id': 'cookies.__ondemand_sessionid'\n",
    "                                        }\n",
    "                                )\n",
    "data = delivery_dish_API.text\n",
    "dataJson = json.loads(data)\n",
    "print(dataJson)"
   ]
  },
  {
   "cell_type": "markdown",
   "id": "55e49b62",
   "metadata": {},
   "source": [
    "- get detail of ONE shop"
   ]
  },
  {
   "cell_type": "code",
   "execution_count": null,
   "id": "67256262",
   "metadata": {},
   "outputs": [],
   "source": [
    "delivery_dish_API = requests.get(\"https://gappapi.deliverynow.vn/api/delivery/get_detail?request_id={request_id}&id_type=1\", \n",
    "                                    headers={'x-foody-api-version': '1',\n",
    "                                            'x-foody-app-type': '1004',\n",
    "                                            'x-foody-client-language': 'vi',\n",
    "                                            'x-foody-client-type': '1',\n",
    "                                            'x-foody-client-version': '1',\n",
    "                                            'X-Foody-Client-Id': 'cookies.__ondemand_sessionid'\n",
    "                                        }\n",
    "                                )\n",
    "data = delivery_dish_API.text\n",
    "dataJson = json.loads(data)\n",
    "print(dataJson)"
   ]
  }
 ],
 "metadata": {
  "kernelspec": {
   "display_name": "Python 3 (ipykernel)",
   "language": "python",
   "name": "python3"
  },
  "language_info": {
   "codemirror_mode": {
    "name": "ipython",
    "version": 3
   },
   "file_extension": ".py",
   "mimetype": "text/x-python",
   "name": "python",
   "nbconvert_exporter": "python",
   "pygments_lexer": "ipython3",
   "version": "3.9.6"
  },
  "vscode": {
   "interpreter": {
    "hash": "0d591c6e422414675974e227c13f5382000c440fedd3c5006ef2be5d887f0ba7"
   }
  }
 },
 "nbformat": 4,
 "nbformat_minor": 5
}
