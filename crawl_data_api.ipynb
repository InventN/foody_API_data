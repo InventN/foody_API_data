{
 "cells": [
  {
   "cell_type": "code",
   "execution_count": 1,
   "id": "c1919610",
   "metadata": {},
   "outputs": [],
   "source": [
    "import requests\n",
    "import json\n",
    "import pprint\n",
    "import pandas as pd\n",
    "import csv\n",
    "import re\n",
    "from datetime import datetime"
   ]
  },
  {
   "cell_type": "markdown",
   "id": "20c873ee",
   "metadata": {},
   "source": [
    "- Get all shops"
   ]
  },
  {
   "cell_type": "code",
   "execution_count": 2,
   "id": "f2d2c330",
   "metadata": {},
   "outputs": [
    {
     "name": "stdout",
     "output_type": "stream",
     "text": [
      "0\n"
     ]
    }
   ],
   "source": [
    "all_shops_API = requests.get(\"https://www.foody.vn/__get/Place/HomeListPlace?page=6&lat=10.823099&lon=106.629664&count=500&districtId=&cateId=&cuisineId=&type=1\", \n",
    "                            headers={'X-Requested-With': 'XMLHttpRequest',\n",
    "                                            'Cookie': 'floc=217'})\n",
    "data = all_shops_API.text\n",
    "dataJson = json.loads(data)\n",
    "print(len(dataJson['Items']))"
   ]
  },
  {
   "cell_type": "code",
   "execution_count": 7,
   "id": "25a01c96",
   "metadata": {
    "scrolled": true
   },
   "outputs": [],
   "source": [
    "def extractshop(page, count, lat, long):\n",
    "    while count > 0:\n",
    "        url = f'https://www.foody.vn/__get/Place/HomeListPlace?page={page}&lat={lat}&lon={long}&count={count}&districtId=&cateId=&cuisineId=&type=1'\n",
    "        all_shops_API = requests.get(url, headers={'X-Requested-With': 'XMLHttpRequest',\n",
    "                                                'Cookie': 'floc=217'})\n",
    "        data = all_shops_API.text\n",
    "        dataJson = json.loads(data)\n",
    "        if len(dataJson['Items']) != 0:\n",
    "            break\n",
    "        else: \n",
    "            count = count - 1    \n",
    "           \n",
    "    \n",
    "    shop_review = []\n",
    "    CityId = dataJson['CityId']\n",
    "    \n",
    "    for shop in dataJson['Items']: \n",
    "        converted_date = shop['ResCreatedOn']\n",
    "        converted_date = converted_date[7:-2]\n",
    "        converted_date = int(converted_date)\n",
    "        converted_date = datetime.fromtimestamp(converted_date // 1000000000)\n",
    "        converted_date = converted_date.strftime('%d/%m/%Y')\n",
    "        shop_review.append({'CityId': CityId, \n",
    "                            'name': shop['Name'],\n",
    "                            'addr': shop['Address'],\n",
    "                            'RestaurantId': shop['RestaurantId'],\n",
    "                            'RestaurantStatus': shop['RestaurantStatus'],\n",
    "                            'avgrating' : shop['AvgRating'],\n",
    "                            'TotalPictures' : shop['TotalPictures'],\n",
    "                            'TotalSaves' : shop['TotalSaves'],\n",
    "                            'TotalReviews' : shop['TotalReviews'],\n",
    "                            'TotalFavourites' : shop['TotalFavourites'],\n",
    "                            'TotalViews' : shop['TotalViews'],\n",
    "                            'TotalCheckIns' : shop['TotalCheckIns'],\n",
    "                            'CreatedOn'  : converted_date,\n",
    "                            'Latitude'  : shop['Latitude'],\n",
    "                            'Longitude'  : shop['Longitude'],\n",
    "                            'ResUrlReviews' : shop['ResUrlReviews']})\n",
    "    return shop_review\n",
    "\n",
    "def extractshop_all(lat, long):\n",
    "    n = 1\n",
    "    page = 0\n",
    "    all_shop = []\n",
    "    while n == 1:\n",
    "        one_page = extractshop(page, 500, lat, long)\n",
    "        all_shop.extend(one_page)\n",
    "        if len(one_page) < 500:\n",
    "            break\n",
    "        else:\n",
    "            page += 1\n",
    "    return all_shop"
   ]
  },
  {
   "cell_type": "code",
   "execution_count": 9,
   "id": "8fff9083",
   "metadata": {},
   "outputs": [
    {
     "data": {
      "text/plain": [
       "2900"
      ]
     },
     "execution_count": 9,
     "metadata": {},
     "output_type": "execute_result"
    }
   ],
   "source": [
    "lmao = extractshop_all(10.823099, 106.629664)\n",
    "lmao"
   ]
  },
  {
   "cell_type": "code",
   "execution_count": 10,
   "id": "440faf68",
   "metadata": {},
   "outputs": [],
   "source": [
    "df = pd.DataFrame.from_dict(lmao) \n",
    "df.to_csv (r'allshop.csv', index = False, header=True, encoding='utf-8')"
   ]
  },
  {
   "cell_type": "markdown",
   "id": "79fe47d9",
   "metadata": {},
   "source": [
    "- Get menu of ONE shop: fải loop qua từng request_id trong cell code trên"
   ]
  },
  {
   "cell_type": "code",
   "execution_count": null,
   "id": "a62b75f7",
   "metadata": {},
   "outputs": [],
   "source": [
    "# VD: có thể thay request_id = 1031704 để thử\n",
    "request_id = 1031704\n",
    "delivery_dish_API = requests.get(f\"https://gappapi.deliverynow.vn/api/dish/get_delivery_dishes?request_id={request_id}&id_type=1\", \n",
    "                                    headers={'x-foody-api-version': '1',\n",
    "                                            'x-foody-app-type': '1004',\n",
    "                                            'x-foody-client-language': 'vi',\n",
    "                                            'x-foody-client-type': '1',\n",
    "                                            'x-foody-client-version': '1',\n",
    "                                            'X-Foody-Client-Id': 'cookies.__ondemand_sessionid'\n",
    "                                        }\n",
    "                                )\n",
    "data = delivery_dish_API.text\n",
    "dataJson = json.loads(data)\n",
    "print(dataJson)"
   ]
  },
  {
   "cell_type": "markdown",
   "id": "55e49b62",
   "metadata": {},
   "source": [
    "- get detail of ONE shop"
   ]
  },
  {
   "cell_type": "code",
   "execution_count": null,
   "id": "67256262",
   "metadata": {},
   "outputs": [],
   "source": [
    "delivery_dish_API = requests.get(\"https://gappapi.deliverynow.vn/api/delivery/get_detail?request_id={request_id}&id_type=1\", \n",
    "                                    headers={'x-foody-api-version': '1',\n",
    "                                            'x-foody-app-type': '1004',\n",
    "                                            'x-foody-client-language': 'vi',\n",
    "                                            'x-foody-client-type': '1',\n",
    "                                            'x-foody-client-version': '1',\n",
    "                                            'X-Foody-Client-Id': 'cookies.__ondemand_sessionid'\n",
    "                                        }\n",
    "                                )\n",
    "data = delivery_dish_API.text\n",
    "dataJson = json.loads(data)\n",
    "print(dataJson)"
   ]
  }
 ],
 "metadata": {
  "kernelspec": {
   "display_name": "Python 3 (ipykernel)",
   "language": "python",
   "name": "python3"
  },
  "language_info": {
   "codemirror_mode": {
    "name": "ipython",
    "version": 3
   },
   "file_extension": ".py",
   "mimetype": "text/x-python",
   "name": "python",
   "nbconvert_exporter": "python",
   "pygments_lexer": "ipython3",
   "version": "3.8.8"
  },
  "vscode": {
   "interpreter": {
    "hash": "0d591c6e422414675974e227c13f5382000c440fedd3c5006ef2be5d887f0ba7"
   }
  }
 },
 "nbformat": 4,
 "nbformat_minor": 5
}
