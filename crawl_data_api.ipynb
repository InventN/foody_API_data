{
 "cells": [
  {
   "cell_type": "code",
   "execution_count": 27,
   "id": "c1919610",
   "metadata": {},
   "outputs": [],
   "source": [
    "import requests\n",
    "import json\n",
    "import pandas as pd"
   ]
  },
  {
   "cell_type": "markdown",
   "id": "20c873ee",
   "metadata": {},
   "source": [
    "- Get all shops"
   ]
  },
  {
   "cell_type": "code",
   "execution_count": null,
   "id": "f2d2c330",
   "metadata": {},
   "outputs": [],
   "source": [
    "url = \"https://www.foody.vn/__get/Place/HomeListPlace?page=1&lat=10.823099&lon=106.629664&count=12&districtId=&cateId=&cuisineId=&isReputation=&type=1\"\n",
    "all_shops_API = requests.get(url, headers={'X-Requested-With': 'XMLHttpRequest',\n",
    "                                            'Cookie': 'floc=217'})\n",
    "data = all_shops_API.text\n",
    "dataJson = json.loads(data)"
   ]
  },
  {
   "cell_type": "markdown",
   "id": "79fe47d9",
   "metadata": {},
   "source": [
    "- Get menu of ONE shop: fải loop qua từng request_id trong cell code trên"
   ]
  },
  {
   "cell_type": "code",
   "execution_count": 30,
   "id": "a62b75f7",
   "metadata": {},
   "outputs": [],
   "source": [
    "# VD: có thể thay request_id = 1031704 để thử\n",
    "\n",
    "requests_id = [1031704, 725868]\n",
    "\n",
    "menu_df = pd.DataFrame(columns=['request_id','dish_type_id', 'dish_type_name'])\n",
    "menu_dish_df = pd.DataFrame(columns=['request_id', 'dish_type_id', 'dish_id', 'dish_name', 'dish_description', 'dish_price_value', 'dish_total_like', 'dish_is_available'])\n",
    "menu_dish_option_df = pd.DataFrame(columns=['request_id', 'dish_type_id', 'dish_id', 'option_id', 'option_min_select', 'option_max_select'])\n",
    "menu_dish_option_item_df = pd.DataFrame(columns=['request_id', 'dish_type_id', 'dish_id', 'option_id', 'item_id', 'item_name', 'item_price'])\n",
    "\n",
    "for request_id in requests_id:\n",
    "        delivery_dish_API = requests.get(f\"https://gappapi.deliverynow.vn/api/dish/get_delivery_dishes?request_id={request_id}&id_type=1\", \n",
    "                                        headers={'x-foody-api-version': '1',\n",
    "                                                'x-foody-app-type': '1004',\n",
    "                                                'x-foody-client-language': 'vi',\n",
    "                                                'x-foody-client-type': '1',\n",
    "                                                'x-foody-client-version': '1',\n",
    "                                                'X-Foody-Client-Id': 'cookies.__ondemand_sessionid'\n",
    "                                                }\n",
    "                                        )\n",
    "        \n",
    "        data = delivery_dish_API.text\n",
    "        dataJson = json.loads(data)\n",
    "        menu_infos = dataJson['reply']['menu_infos']\n",
    "\n",
    "        menu_df_temp = pd.DataFrame(columns=['request_id', 'dish_type_id', 'dish_type_name'])\n",
    "        menu_dish_df_temp = pd.DataFrame(columns=['request_id', 'dish_type_id', 'dish_id', 'dish_name', 'dish_description', 'dish_price_value', 'dish_total_like', 'dish_is_available'])\n",
    "        menu_dish_option_df_temp = pd.DataFrame(columns=['request_id', 'dish_type_id', 'dish_id', 'option_id', 'option_min_select', 'option_max_select'])\n",
    "        menu_dish_option_item_df_temp = pd.DataFrame(columns=['request_id', 'dish_type_id', 'dish_id', 'option_id', 'item_id', 'item_name', 'item_price'])\n",
    "\n",
    "        for menu_info in menu_infos:\n",
    "                menu_df_temp.loc[len(menu_df_temp.index)] = [request_id, menu_info['dish_type_id'], menu_info['dish_type_name']]\n",
    "                for dish in menu_info['dishes']:\n",
    "                        menu_dish_df_temp.loc[len(menu_dish_df_temp.index)] = [\n",
    "                                request_id,\n",
    "                                menu_info['dish_type_id'],\n",
    "                                dish['id'],\n",
    "                                dish['name'],\n",
    "                                dish['description'],\n",
    "                                dish['price']['value'],\n",
    "                                dish['total_like'],\n",
    "                                dish['is_available']\n",
    "                        ]\n",
    "                        for option in dish['options']:\n",
    "                                menu_dish_option_df_temp.loc[len(menu_dish_option_df_temp.index)] = [\n",
    "                                        request_id,\n",
    "                                        menu_info['dish_type_id'],\n",
    "                                        dish['id'],\n",
    "                                        option['id'],\n",
    "                                        option['option_items']['min_select'],\n",
    "                                        option['option_items']['max_select']\n",
    "                                ]\n",
    "                                for item in option['option_items']['items']:\n",
    "                                        menu_dish_option_item_df_temp.loc[len(menu_dish_option_item_df_temp.index)] = [\n",
    "                                                request_id,\n",
    "                                                menu_info['dish_type_id'],\n",
    "                                                dish['id'],\n",
    "                                                option['id'],\n",
    "                                                item['id'],\n",
    "                                                item['name'],\n",
    "                                                item['price']['value']\n",
    "                                        ]\n",
    "\n",
    "        menu_df = pd.concat([menu_df, menu_df_temp])\n",
    "        menu_dish_df = pd.concat([menu_dish_df, menu_dish_df_temp])\n",
    "        menu_dish_option_df = pd.concat([menu_dish_option_df, menu_dish_option_df_temp])\n",
    "        menu_dish_option_item_df = pd.concat([menu_dish_option_item_df, menu_dish_option_item_df_temp])\n",
    "                                "
   ]
  },
  {
   "cell_type": "markdown",
   "id": "2f970e26",
   "metadata": {},
   "source": [
    "- merge to a CSV"
   ]
  },
  {
   "cell_type": "code",
   "execution_count": 38,
   "id": "b083ef80",
   "metadata": {},
   "outputs": [],
   "source": [
    "\n",
    "\n",
    "menu = pd.merge(menu_dish_df, menu_df,  how='left', on=['request_id', 'dish_type_id'])\n",
    "menu = pd.merge(menu, menu_dish_option_df,  how='left', left_on=['request_id', 'dish_type_id','dish_id'], right_on = ['request_id', 'dish_type_id','dish_id'])\n",
    "menu = pd.merge(menu, menu_dish_option_item_df,  how='left', left_on=['request_id', 'dish_type_id','dish_id', 'option_id'],\\\n",
    "     right_on = ['request_id', 'dish_type_id','dish_id', 'option_id'])\n",
    "menu.to_csv('menu.csv', sep=',', encoding='utf-8')\n",
    "\n"
   ]
  },
  {
   "cell_type": "markdown",
   "id": "55e49b62",
   "metadata": {},
   "source": [
    "- get detail of ONE shop"
   ]
  },
  {
   "cell_type": "code",
   "execution_count": 63,
   "id": "53ab5903",
   "metadata": {},
   "outputs": [],
   "source": [
    "# VD: có thể thay request_id = 1031704 để thử\n",
    "\n",
    "requests_id = [1031704, 725868]\n",
    "\n",
    "detail_df = pd.DataFrame(columns=['city_id', 'district_id', 'request_id', 'categories', 'cuisines', 'total_review', 'avg', \\\n",
    "                'service_fee', 'avg_price', 'min_order_value', 'min_charge', 'minimun_shiping_fee', 'is_foody_delivery', 'min_price', 'max_price'])\n",
    "\n",
    "for request_id in requests_id:\n",
    "        detail_API = requests.get(f\"https://gappapi.deliverynow.vn/api/delivery/get_detail?request_id={request_id}&id_type=1\", \n",
    "                                        headers={'x-foody-api-version': '1',\n",
    "                                                'x-foody-app-type': '1004',\n",
    "                                                'x-foody-client-language': 'vi',\n",
    "                                                'x-foody-client-type': '1',\n",
    "                                                'x-foody-client-version': '1',\n",
    "                                                'X-Foody-Client-Id': 'cookies.__ondemand_sessionid'\n",
    "                                                }\n",
    "                                        )\n",
    "        \n",
    "        data = detail_API.text\n",
    "        dataJson = json.loads(data)\n",
    "        detail_infos = dataJson['reply']['delivery_detail']\n",
    "\n",
    "        detail_df_temp = pd.DataFrame(columns=['city_id', 'district_id', 'request_id', 'categories', 'cuisines', 'total_review', 'avg', \\\n",
    "                'service_fee', 'avg_price', 'min_order_value', 'min_charge', 'minimun_shiping_fee', 'is_foody_delivery', 'min_price', 'max_price'])\n",
    "        detail_rating_df_temp = pd.DataFrame(columns=['request_id', 'total_review', 'avg'])\n",
    "        detail_delivery_df_temp = pd.DataFrame(columns=['request_id','service_fee', 'avg_price', 'min_order_value', 'min_charge', 'minimun-shiping-fee', 'is_foody_delivery'])\n",
    "        detail_price_df_temp = pd.DataFrame(columns=['request_id', 'min', 'max'])\n",
    "\n",
    "        \n",
    "        detail_df_temp.loc[len(detail_df_temp.index)] = [detail_infos['city_id'], detail_infos['district_id'], request_id, detail_infos['categories'], \\\n",
    "                detail_infos['cuisines'], detail_infos['rating']['total_review'], detail_infos['rating']['avg'], detail_infos['delivery']['service_fee']['value'],\\\n",
    "                detail_infos['delivery']['avg_price']['value'], detail_infos['delivery']['min_order_value']['value'], detail_infos['delivery']['min_charge'], \\\n",
    "                detail_infos['delivery']['shipping_fee']['minimum_fee'], detail_infos['delivery']['is_foody_delivery'], \\\n",
    "                detail_infos['price_range']['min_price'], detail_infos['price_range']['max_price']]\n",
    "        \n",
    "\n",
    "        detail_df = pd.concat([detail_df, detail_df_temp])\n",
    "\n",
    "\n",
    "detail_df.to_csv('detail_df.csv', sep=',', encoding='utf-8')"
   ]
  }
 ],
 "metadata": {
  "kernelspec": {
   "display_name": "Python 3.8.0 32-bit",
   "language": "python",
   "name": "python3"
  },
  "language_info": {
   "codemirror_mode": {
    "name": "ipython",
    "version": 3
   },
   "file_extension": ".py",
   "mimetype": "text/x-python",
   "name": "python",
   "nbconvert_exporter": "python",
   "pygments_lexer": "ipython3",
   "version": "3.8.0"
  },
  "vscode": {
   "interpreter": {
    "hash": "9363dc131ef194b2f28a3b136b4153138bb891634d04c7d3fc6a2887135a1464"
   }
  }
 },
 "nbformat": 4,
 "nbformat_minor": 5
}
