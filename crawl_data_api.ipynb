{
 "cells": [
  {
   "cell_type": "code",
   "execution_count": 1,
   "id": "c1919610",
   "metadata": {},
   "outputs": [],
   "source": [
    "import requests\n",
    "import json"
   ]
  },
  {
   "cell_type": "markdown",
   "id": "20c873ee",
   "metadata": {},
   "source": [
    "- Get all shops"
   ]
  },
  {
   "cell_type": "code",
   "execution_count": null,
   "id": "f2d2c330",
   "metadata": {},
   "outputs": [],
   "source": [
    "url = \"https://www.foody.vn/__get/Place/HomeListPlace?page=1&lat=10.823099&lon=106.629664&count=12&districtId=&cateId=&cuisineId=&isReputation=&type=1\"\n",
    "all_shops_API = requests.get(url, headers={'X-Requested-With': 'XMLHttpRequest',\n",
    "                                            'Cookie': 'floc=217'})\n",
    "data = all_shops_API.text\n",
    "dataJson = json.loads(data)\n",
    "print(dataJson)"
   ]
  },
  {
   "cell_type": "markdown",
   "id": "79fe47d9",
   "metadata": {},
   "source": [
    "- Get menu of ONE shop: fải loop qua từng request_id trong cell code trên"
   ]
  },
  {
   "cell_type": "code",
   "execution_count": 39,
   "id": "a62b75f7",
   "metadata": {},
   "outputs": [],
   "source": [
    "# VD: có thể thay request_id = 1031704 để thử\n",
    "\n",
    "request_id = 1031704\n",
    "delivery_dish_API = requests.get(f\"https://gappapi.deliverynow.vn/api/dish/get_delivery_dishes?request_id={request_id}&id_type=1\", \n",
    "                                    headers={'x-foody-api-version': '1',\n",
    "                                            'x-foody-app-type': '1004',\n",
    "                                            'x-foody-client-language': 'vi',\n",
    "                                            'x-foody-client-type': '1',\n",
    "                                            'x-foody-client-version': '1',\n",
    "                                            'X-Foody-Client-Id': 'cookies.__ondemand_sessionid'\n",
    "                                        }\n",
    "                                )\n",
    "data = delivery_dish_API.text\n",
    "dataJson = json.loads(data)\n",
    "\n",
    "import pandas as pd\n",
    "menu_infos = dataJson['reply']['menu_infos']\n",
    "\n",
    "\n",
    "menu_df = pd.DataFrame(columns=['dish_type_id', 'dish_type_name'])\n",
    "menu_dish_df = pd.DataFrame(columns=['dish_type_id', 'dish_id', 'dish_name', 'dish_description', 'dish_price_value', 'dish_total_like', 'dish_is_available'])\n",
    "menu_dish_option_df = pd.DataFrame(columns=['dish_type_id', 'dish_id', 'option_id', 'option_min_select', 'option_max_select'])\n",
    "menu_dish_option_item_df = pd.DataFrame(columns=['dish_type_id', 'dish_id', 'option_id', 'item_id', 'item_name', 'item_price'])\n",
    "\n",
    "for menu_info in menu_infos:\n",
    "        menu_df.loc[len(menu_df.index)] = [menu_info['dish_type_id'], menu_info['dish_type_name']]\n",
    "        for dish in menu_info['dishes']:\n",
    "                menu_dish_df.loc[len(menu_dish_df.index)] = [\n",
    "                        menu_info['dish_type_id'],\n",
    "                        dish['id'],\n",
    "                        dish['name'],\n",
    "                        dish['description'],\n",
    "                        dish['price']['value'],\n",
    "                        dish['total_like'],\n",
    "                        dish['is_available']\n",
    "                ]\n",
    "                for option in dish['options']:\n",
    "                        menu_dish_option_df.loc[len(menu_dish_option_df.index)] = [\n",
    "                                menu_info['dish_type_id'],\n",
    "                                dish['id'],\n",
    "                                option['id'],\n",
    "                                option['option_items']['min_select'],\n",
    "                                option['option_items']['max_select']\n",
    "                        ]\n",
    "                        for item in option['option_items']['items']:\n",
    "                                menu_dish_option_item_df.loc[len(menu_dish_option_item_df.index)] = [\n",
    "                                        menu_info['dish_type_id'],\n",
    "                                        dish['id'],\n",
    "                                        option['id'],\n",
    "                                        item['id'],\n",
    "                                        item['name'],\n",
    "                                        item['price']['value']\n",
    "                                ]\n",
    "                                \n",
    "                        \n",
    "menu_df.to_csv('menu.csv', sep=',', encoding='utf-8')\n",
    "menu_dish_df.to_csv('menu.dish.csv', sep=',', encoding='utf-8')\n",
    "menu_dish_option_df.to_csv('menu.dish.option.csv', sep=',', encoding='utf-8')\n",
    "menu_dish_option_item_df.to_csv('menu.dish.option.item.csv', sep=',', encoding='utf-8')"
   ]
  },
  {
   "cell_type": "markdown",
   "id": "55e49b62",
   "metadata": {},
   "source": [
    "- get detail of ONE shop"
   ]
  },
  {
   "cell_type": "code",
   "execution_count": 46,
   "id": "67256262",
   "metadata": {},
   "outputs": [
    {
     "name": "stdout",
     "output_type": "stream",
     "text": [
      "{'reply': None, 'result': 'error_params'}\n"
     ]
    }
   ],
   "source": [
    "request_id = 1077197\n",
    "delivery_dish_API = requests.get(\"https://gappapi.deliverynow.vn/api/delivery/get_detail?request_id={request_id}&id_type=1\", \n",
    "                                    headers={'x-foody-api-version': '1',\n",
    "                                            'x-foody-app-type': '1004',\n",
    "                                            'x-foody-client-language': 'vi',\n",
    "                                            'x-foody-client-type': '1',\n",
    "                                            'x-foody-client-version': '1',\n",
    "                                            'X-Foody-Client-Id': 'cookies.__ondemand_sessionid'\n",
    "                                        }\n",
    "                                )\n",
    "data = delivery_dish_API.text\n",
    "dataJson = json.loads(data)\n",
    "print(dataJson)"
   ]
  }
 ],
 "metadata": {
  "kernelspec": {
   "display_name": "Python 3.9.6 64-bit",
   "language": "python",
   "name": "python3"
  },
  "language_info": {
   "codemirror_mode": {
    "name": "ipython",
    "version": 3
   },
   "file_extension": ".py",
   "mimetype": "text/x-python",
   "name": "python",
   "nbconvert_exporter": "python",
   "pygments_lexer": "ipython3",
   "version": "3.9.6"
  },
  "vscode": {
   "interpreter": {
    "hash": "0d591c6e422414675974e227c13f5382000c440fedd3c5006ef2be5d887f0ba7"
   }
  }
 },
 "nbformat": 4,
 "nbformat_minor": 5
}
