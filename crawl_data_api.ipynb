{
 "cells": [
  {
   "cell_type": "code",
   "execution_count": 3,
   "id": "c1919610",
   "metadata": {},
   "outputs": [],
   "source": [
    "import requests\n",
    "import json\n",
    "import pprint\n",
    "import pandas as pd\n",
    "import csv\n",
    "import re\n",
    "from datetime import datetime\n",
    "import time"
   ]
  },
  {
   "cell_type": "markdown",
   "id": "20c873ee",
   "metadata": {},
   "source": [
    "# I. Lấy thông tin chung\n",
    "- Lấy thông tin của tất cả các quán ăn thuộc 1 tỉnh/TP. Rộng hơn là thông tin tất cả quán ăn của nhiều tỉnh thành\n",
    "- Với mỗi quán ăn, lấy những trường thông tin cơ bản như\n",
    "    + name, addr, CityId, RestaurantId, RestaurantStatus <font color=green>// thông tin cơ bản</font>\n",
    "    + AvgRating\n",
    "    + TotalPictures, TotalSaves, TotalReviews, TotalFavourites, TotalViews, TotalCheckIns\n",
    "    + CreatedOn <font color=green>//ngày shop dc tạo đầu tiên trên foody (trường này bị sao rồi, toàn mặc định)</font>\n",
    "    + Latitude & Longitude <font color=green>//toạ độ</font>\n",
    "    + ResUrlReviews <font color=green>//URL dẫn tới trang chứa bình luận của shop đó</font>\n"
   ]
  },
  {
   "cell_type": "code",
   "execution_count": null,
   "id": "f2d2c330",
   "metadata": {},
   "outputs": [],
   "source": [
    "## nháp\n",
    "page=1\n",
    "st=9\n",
    "all_shops_API = requests.get(f\"https://www.foody.vn/ho-chi-minh/dia-diem?vt=row&st={st}&dt=1&page={page}\", \n",
    "                            headers={'X-Requested-With': 'XMLHttpRequest',\n",
    "                                     'Cookie': 'FOODY.AUTH=A3F33DD0BA0DC443960AC294DA1D898EE203A64E31B64523D3674F29D60EF3C3C900F1F3BF70DAC47FD0ED268F012BD8FD06CCA143E3FCC2F79AA22CFF031D91A06F5D97B96B09529CF8E5A06E58BCF34312AFDA1F37E6B39CC56A6BA525D72DEDDF1EFE136334F777A1AD191BC3B393CA5D7B3008AA54A9565C21793E196AB15D19E8867327553F696DDCA2938C22208B84620BAA2F757C9D4B8E2FF3CE8A28E6EBC891AAE2F227C02CF6834427BD815163F0DAB98F2E47CECEA44EE3CB88F9A94D33123EEA15B660CF6DE09385DF9EAFD8741C8B4936BF4B5C40B003150E622D303BAC626EBF7FD60BCB19647A46FC',\n",
    "                                    })\n",
    "data = all_shops_API.text \n",
    "dataJson = json.loads(data)\n",
    "\n",
    "# print(len(dataJson['searchItems']))\n",
    "dataJson['searchItems']"
   ]
  },
  {
   "cell_type": "code",
   "execution_count": 24,
   "id": "cc232c81",
   "metadata": {},
   "outputs": [],
   "source": [
    "def get_single_page(page, st, dist):\n",
    "    '''extract 1 page'''\n",
    "    url = f'https://www.foody.vn/ho-chi-minh/dia-diem?vt=row&st={st}&dt={dist}&page={page}'\n",
    "    all_shops_API = requests.get(url, headers={'X-Requested-With': 'XMLHttpRequest',\n",
    "                                               'Cookie': 'FOODY.AUTH=A3F33DD0BA0DC443960AC294DA1D898EE203A64E31B64523D3674F29D60EF3C3C900F1F3BF70DAC47FD0ED268F012BD8FD06CCA143E3FCC2F79AA22CFF031D91A06F5D97B96B09529CF8E5A06E58BCF34312AFDA1F37E6B39CC56A6BA525D72DEDDF1EFE136334F777A1AD191BC3B393CA5D7B3008AA54A9565C21793E196AB15D19E8867327553F696DDCA2938C22208B84620BAA2F757C9D4B8E2FF3CE8A28E6EBC891AAE2F227C02CF6834427BD815163F0DAB98F2E47CECEA44EE3CB88F9A94D33123EEA15B660CF6DE09385DF9EAFD8741C8B4936BF4B5C40B003150E622D303BAC626EBF7FD60BCB19647A46FC'})\n",
    "    data = all_shops_API.text\n",
    "    try:\n",
    "        json_data = json.loads(data)\n",
    "    except:\n",
    "        return []\n",
    "    if not json_data['searchItems']:\n",
    "        return []\n",
    "    shop_attribs = []\n",
    "    \n",
    "    for shop in json_data['searchItems']: \n",
    "        shop_attribs.append({'ReviewUrl' : shop['ReviewUrl'],\n",
    "                            'Address': shop['Address']}) # bsung \n",
    "    \n",
    "    return shop_attribs # [{},{},..]\n",
    "\n",
    "def get_single_district(dist=1):\n",
    "    '''get all shops in a single district'''\n",
    "    page = 1\n",
    "    all_shop = []\n",
    "    empty = False\n",
    "\n",
    "    for page in range(1, 101):\n",
    "        if empty:\n",
    "            break\n",
    "        # print(f'page {page}')\n",
    "        st = 1\n",
    "\n",
    "        for st in range(1, 60):\n",
    "            # print(f'  st = {st}')\n",
    "            time.sleep(1)\n",
    "            one_page = get_single_page(page, st, dist) \n",
    "            \n",
    "            if not one_page: # check empty\n",
    "                empty = True\n",
    "                break\n",
    "            all_shop.extend(one_page)\n",
    "    return all_shop # [{},{},..]                       \n",
    "\n",
    "def get_single_city(city_id='217', start_id=1):\n",
    "    all_dist = '1,4,5,6,7,8,9,10,11,12,13,14,15,16,17,19,2,18,693,696,699,695,694,698'.split(',')\n",
    "    all_city_shops = []\n",
    "\n",
    "    for dist in all_dist[start_id:]:\n",
    "        all_city_shops.extend(get_single_district(dist))\n",
    "    return all_city_shops"
   ]
  },
  {
   "cell_type": "code",
   "execution_count": 25,
   "id": "56a01784",
   "metadata": {},
   "outputs": [
    {
     "name": "stdout",
     "output_type": "stream",
     "text": [
      "save district 5 successfully\n"
     ]
    }
   ],
   "source": [
    "def save_district_to_file(dist):\n",
    "    shops_in_a_district = get_single_district(dist)\n",
    "\n",
    "    df = pd.DataFrame.from_dict(shops_in_a_district) \n",
    "    df.dropna().drop_duplicates().to_csv(f'q{dist}.csv', index = False, header=True, encoding='utf-8')\n",
    "\n",
    "all_dist = '1,4,5,6,7,8,9,10,11,12,13,14,15,16,17,19,2,18,693,696,699,695,694,698'.split(',')\n",
    "for dist in all_dist[2:]:\n",
    "    save_district_to_file(dist)\n",
    "    print(f'save district {dist} successfully')"
   ]
  },
  {
   "cell_type": "code",
   "execution_count": null,
   "id": "a4b0399a",
   "metadata": {},
   "outputs": [],
   "source": [
    "shops_in_a_district = get_single_district(dist=4)\n",
    "print(len(shops_in_a_district))\n",
    "\n",
    "df = pd.DataFrame.from_dict(shops_in_a_district) \n",
    "print(f'lọc trùng:', df.drop_duplicates().shape)\n",
    "df.drop_duplicates().to_csv(r'q2_1.csv', index = False, header=True, encoding='utf-8')"
   ]
  },
  {
   "cell_type": "code",
   "execution_count": 19,
   "id": "728c984e",
   "metadata": {},
   "outputs": [
    {
     "data": {
      "text/plain": [
       "(1580, 2)"
      ]
     },
     "execution_count": 19,
     "metadata": {},
     "output_type": "execute_result"
    }
   ],
   "source": [
    "# merge \n",
    "df = pd.read_csv('q2.csv')\n",
    "df.drop_duplicates().to_csv(r'q2.csv', index = False, header=True, encoding='utf-8')\n",
    "df.drop_duplicates().shape"
   ]
  },
  {
   "cell_type": "markdown",
   "id": "4911a9b4",
   "metadata": {},
   "source": [
    "# II. Lấy thông tin cụ thể từng quán ăn\n",
    "Thông tin lần này chia thành 2 loại:\n",
    "- Thông tin thực đơn (Get delivery dishes)\n",
    "    - dish_type_name <font color=green>//Loại đồ ăn: 1 loại đồ ăn gồm nhiều món ăn, VD: bún thì có bún cá, bún chả</font>\n",
    "    - total_like <font color=green>//tổng lượt like loại đồ ăn đó</font>\n",
    "    - is_available <font color=green>//loại đồ ăn đó còn món ko</font>\n",
    "    - dish_name <font color=green>//món ăn thuộc loại đồ ăn đó. VD: bún cá thập cẩm</font>\n",
    "    - dish_price <font color=green>//giá 1 món ăn thuộc 1 loại đồ ăn </font>\n",
    "    - options: <font color=green>// có option nào cho món ăn đó. VD: có option chọn thêm topping như rau, cua,... </font>\n",
    "        [\n",
    "        option_1: name, price;\n",
    "        option_2: name, price;\n",
    "        ....\n",
    "        ]\n",
    "    - option_min_select, option_max_select\n",
    "\n",
    "- Thông tin chi tiết quán ăn (Get detail):\n",
    "    - phone \n",
    "\t- district_id\n",
    "\t- category <font color=green>//loại hình quán ăn?</font>\n",
    "\t- cuisines <font color=green>//quán ăn thuộc phân khúc món nào? món Việt, Âu,...?</font>\n",
    "\t- service_fee <font color=green>//fí dịch vụ</font>\n",
    "\t- avg_price <font color=green>// chắc là giá trung bình của quán ăn.</font>\n",
    "\t- min_order_value <font color=green>//fải mua tối thiểu bnhiêu tiền?</font>\n",
    "\t- promotion <font color=green>// trong này nhiều trường nhỏ, tự nghiên cứu thêm</font>\n",
    "\t- min_charge <font color=green>//fí fụ thu nhỏ nhất</font>\n",
    "\t- week_days, operating <font color=green>//thời gian mở cửa</font>\n",
    "\t- min_shipping_fee <font color=green>// có thể là giá ship thấp nhất</font>\n",
    "\t- is_foody_delivery <font color=green>// có thể là shop này có phải là shop bán mang về hay không</font>\n",
    "\t- price_range <font color=green>// khoảng giá min – max của quán.</font>\n",
    "\n",
    "---"
   ]
  },
  {
   "cell_type": "markdown",
   "id": "79fe47d9",
   "metadata": {},
   "source": [
    "- Get menu of ONE shop: fải loop qua từng request_id trong cell code trên"
   ]
  },
  {
   "cell_type": "code",
   "execution_count": null,
   "id": "a28ac432",
   "metadata": {},
   "outputs": [],
   "source": [
    "def hi():\n",
    "        delivery_dish_API = requests.get(f\"https://gappapi.deliverynow.vn/api/dish/get_delivery_dishes?request_id={restaurant_id}&id_type=1\", \n",
    "                                        headers={'x-foody-api-version': '1',\n",
    "                                                'x-foody-app-type': '1004',\n",
    "                                                'x-foody-client-language': 'vi',\n",
    "                                                'x-foody-client-type': '1',\n",
    "                                                'x-foody-client-version': '1',\n",
    "                                                'X-Foody-Client-Id': 'cookies.__ondemand_sessionid'\n",
    "                                                }\n",
    "                                        )"
   ]
  },
  {
   "cell_type": "code",
   "execution_count": null,
   "id": "a62b75f7",
   "metadata": {},
   "outputs": [],
   "source": [
    "def get_delivery_dishes(restaurant_id):\n",
    "        delivery_dish_API = requests.get(f\"https://gappapi.deliverynow.vn/api/dish/get_delivery_dishes?request_id={restaurant_id}&id_type=1\", \n",
    "                                        headers={'x-foody-api-version': '1',\n",
    "                                                'x-foody-app-type': '1004',\n",
    "                                                'x-foody-client-language': 'vi',\n",
    "                                                'x-foody-client-type': '1',\n",
    "                                                'x-foody-client-version': '1',\n",
    "                                                'X-Foody-Client-Id': 'cookies.__ondemand_sessionid'\n",
    "                                                }\n",
    "                                        )\n",
    "\n",
    "        data = delivery_dish_API.text\n",
    "        dataJson = json.loads(data)\n",
    "        menu_infos = dataJson['reply']['menu_infos']\n",
    "\n",
    "        menu_df = pd.DataFrame(columns=['restaurant_id', 'dish_type_id', 'dish_type_name'])\n",
    "        menu_dish_df = pd.DataFrame(columns=['dish_type_id', 'dish_id', 'dish_name', 'dish_description', 'dish_price_value', 'dish_total_like', 'dish_is_available'])\n",
    "        menu_dish_option_df = pd.DataFrame(columns=['dish_type_id', 'dish_id', 'option_id', 'option_min_select', 'option_max_select'])\n",
    "        menu_dish_option_item_df = pd.DataFrame(columns=['dish_type_id', 'dish_id', 'option_id', 'item_id', 'item_name', 'item_price'])\n",
    "\n",
    "        for menu_info in menu_infos:\n",
    "                menu_df.loc[len(menu_df.index)] = [restaurant_id, menu_info['dish_type_id'], menu_info['dish_type_name']]\n",
    "                for dish in menu_info['dishes']:\n",
    "                        menu_dish_df.loc[len(menu_dish_df.index)] = [\n",
    "                                menu_info['dish_type_id'],\n",
    "                                dish['id'],\n",
    "                                dish['name'],\n",
    "                                dish['description'],\n",
    "                                dish['price']['value'],\n",
    "                                dish['total_like'],\n",
    "                                dish['is_available']\n",
    "                        ]\n",
    "                        for option in dish['options']:\n",
    "                                menu_dish_option_df.loc[len(menu_dish_option_df.index)] = [\n",
    "                                        menu_info['dish_type_id'],\n",
    "                                        dish['id'],\n",
    "                                        option['id'],\n",
    "                                        option['option_items']['min_select'],\n",
    "                                        option['option_items']['max_select']\n",
    "                                ]\n",
    "                                for item in option['option_items']['items']:\n",
    "                                        menu_dish_option_item_df.loc[len(menu_dish_option_item_df.index)] = [\n",
    "                                                menu_info['dish_type_id'],\n",
    "                                                dish['id'],\n",
    "                                                option['id'],\n",
    "                                                item['id'],\n",
    "                                                item['name'],\n",
    "                                                item['price']['value']\n",
    "                                        ]\n",
    "        return menu_df, menu_dish_df, menu_dish_option_df, menu_dish_option_item_df"
   ]
  },
  {
   "cell_type": "code",
   "execution_count": null,
   "id": "7f37bf84",
   "metadata": {},
   "outputs": [],
   "source": [
    "all_shop_menu = pd.DataFrame()\n",
    "\n",
    "# get menu of all shops\n",
    "for res_id in all_restaurant_ids:\n",
    "    menu_df, menu_dish_df, menu_dish_option_df, menu_dish_option_item_df = get_delivery_dishes(res_id)\n",
    "    all_shop_menu.append(menu_df)\n",
    "\n",
    "all_shop_menu.to_csv('menu.csv', sep=',', encoding='utf-8', index=False)\n",
    "# menu_dish_df.to_csv('menu.dish.csv', sep=',', encoding='utf-8', index=False)\n",
    "# menu_dish_option_df.to_csv('menu.dish.option.csv', sep=',', encoding='utf-8', index=False)\n",
    "# menu_dish_option_item_df.to_csv('menu.dish.option.item.csv', sep=',', encoding='utf-8', index=False)"
   ]
  },
  {
   "cell_type": "code",
   "execution_count": null,
   "id": "c6c9f69f",
   "metadata": {},
   "outputs": [],
   "source": [
    "# TEST: có thể thay request_id = 1031704 để thử\n",
    "# ..."
   ]
  },
  {
   "cell_type": "markdown",
   "id": "55e49b62",
   "metadata": {},
   "source": [
    "- get detail of ONE shop"
   ]
  },
  {
   "cell_type": "code",
   "execution_count": null,
   "id": "67256262",
   "metadata": {},
   "outputs": [],
   "source": [
    "def get_detail(restaurant_id):\n",
    "        delivery_dish_API = requests.get(\"https://gappapi.deliverynow.vn/api/delivery/get_detail?request_id={restaurant_id}&id_type=1\", \n",
    "                                        headers={'x-foody-api-version': '1',\n",
    "                                                'x-foody-app-type': '1004',\n",
    "                                                'x-foody-client-language': 'vi',\n",
    "                                                'x-foody-client-type': '1',\n",
    "                                                'x-foody-client-version': '1',\n",
    "                                                'X-Foody-Client-Id': 'cookies.__ondemand_sessionid'\n",
    "                                                }\n",
    "                                        )\n",
    "        data = delivery_dish_API.text\n",
    "        dataJson = json.loads(data)\n",
    "        shop = dataJson['reply']['delivery_detail']\n",
    "\n",
    "        shop_df = pd.DataFrame(columns=['shop_id', 'name', 'short_description', 'city_id', 'district_id', 'address', \n",
    "                                'rating_total_review', 'rating_avg', 'rating_app_link',  \n",
    "                                'service_fee', 'avg_price', 'min_order_value', 'min_charge', 'min_shipping_fee', 'min_price', 'max_price', \n",
    "                                'is_foody_delivery', 'week_days', 'start_time', 'end_time'])\n",
    "\n",
    "        shop_phone_df = pd.DataFrame(columns=['shop_id', 'phone'])\n",
    "        shop_category_df = pd.DataFrame(columns=['shop_id', 'category'])\n",
    "        shop_cuisine_df = pd.DataFrame(columns=['shop_id', 'cuisine'])\n",
    "        shop_promotion_df = pd.DataFrame(columns=['shop_id', 'promo_code', 'discount_amount', 'min_order_amount', 'max_discount_amount', 'apply_order','max_usage_time', 'expired'])\n",
    "\n",
    "        shop_df.loc[len(shop_df.index)] = [\n",
    "                shop['id'], shop['name'], shop['short_description'], shop['city_id'], shop['district_id'], shop['address'],\n",
    "                shop['rating']['total_review'], shop['rating']['avg'], shop['rating']['app_link'],\n",
    "                shop['delivery']['service_fee']['value'], shop['delivery']['avg_price']['value'], shop['delivery']['min_order_value']['value'],\n",
    "                shop['delivery']['min_charge'], shop['delivery']['shipping_fee']['minimum_fee'],shop['price_range']['min_price'],\n",
    "                shop['price_range']['max_price'],shop['delivery']['is_foody_delivery'],\n",
    "                len(shop['delivery']['time']['week_days']), shop['delivery']['time']['week_days'][0]['start_time'], shop['delivery']['time']['week_days'][0]['end_time']\n",
    "        ]\n",
    "\n",
    "        for phone in shop['phones']:\n",
    "                shop_phone_df.loc[len(shop_phone_df.index)] = [\n",
    "                        shop['id'],\n",
    "                        phone\n",
    "                ]\n",
    "\n",
    "        for category in shop['categories']:\n",
    "                shop_category_df.loc[len(shop_category_df.index)] = [\n",
    "                        shop['id'],\n",
    "                        category\n",
    "                ]                     \n",
    "\n",
    "        for cuisine in shop['cuisines']:\n",
    "                shop_cuisine_df.loc[len(shop_cuisine_df.index)] = [\n",
    "                        shop['id'],\n",
    "                        cuisine\n",
    "                ]    \n",
    "\n",
    "        for promotion in shop['delivery']['promotions']:\n",
    "                shop_promotion_df.loc[len(shop_promotion_df.index)] = [\n",
    "                        shop['id'], promotion['promo_code'], promotion['discount_amount'], promotion['min_order_amount'], \n",
    "                        promotion['max_discount_amount'], promotion['apply_order'], promotion['user_condition']['limit_per_user']['max_usage_time'], promotion['expired']\n",
    "                ]\n",
    "\n",
    "        shop_df.to_csv('shop.csv', sep=',', encoding='utf-8')\n",
    "        shop_phone_df.to_csv('shop.phone.csv', sep=',', encoding='utf-8')\n",
    "        shop_category_df.to_csv('shop.category.csv', sep=',', encoding='utf-8')\n",
    "        shop_cuisine_df.to_csv('shop.cuisine.csv', sep=',', encoding='utf-8')\n",
    "        shop_promotion_df.to_csv('shop.promotion.csv', sep=',', encoding='utf-8')"
   ]
  }
 ],
 "metadata": {
  "kernelspec": {
   "display_name": "Python 3 (ipykernel)",
   "language": "python",
   "name": "python3"
  },
  "language_info": {
   "codemirror_mode": {
    "name": "ipython",
    "version": 3
   },
   "file_extension": ".py",
   "mimetype": "text/x-python",
   "name": "python",
   "nbconvert_exporter": "python",
   "pygments_lexer": "ipython3",
   "version": "3.9.6"
  },
  "vscode": {
   "interpreter": {
    "hash": "0d591c6e422414675974e227c13f5382000c440fedd3c5006ef2be5d887f0ba7"
   }
  }
 },
 "nbformat": 4,
 "nbformat_minor": 5
}
