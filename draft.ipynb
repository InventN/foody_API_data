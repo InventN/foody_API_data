{
 "cells": [
  {
   "cell_type": "code",
   "execution_count": 1,
   "metadata": {},
   "outputs": [],
   "source": [
    "import pandas as pd\n",
    "import json \n",
    "import requests"
   ]
  },
  {
   "cell_type": "code",
   "execution_count": 5,
   "metadata": {},
   "outputs": [
    {
     "data": {
      "text/plain": [
       "[]"
      ]
     },
     "execution_count": 5,
     "metadata": {},
     "output_type": "execute_result"
    }
   ],
   "source": [
    "restaurant_id = 90018 # 1113025, 1113038, 90018\n",
    "detail_API = requests.get(f\"https://gappapi.deliverynow.vn/api/delivery/get_detail?request_id={restaurant_id}&id_type=1\", \n",
    "                                headers={'x-foody-api-version': '1',\n",
    "                                        'x-foody-app-type': '1004',\n",
    "                                        'x-foody-client-language': 'vi',\n",
    "                                        'x-foody-client-type': '1',\n",
    "                                        'x-foody-client-version': '1',\n",
    "                                        'X-Foody-Client-Id': 'cookies.__ondemand_sessionid'\n",
    "                                        }\n",
    "                            )\n",
    "data = detail_API.text\n",
    "dataJson = json.loads(data)\n",
    "detail_infos = dataJson['reply']['delivery_detail']\n",
    "detail_infos['delivery']['promotions']"
   ]
  },
  {
   "cell_type": "code",
   "execution_count": 28,
   "metadata": {},
   "outputs": [
    {
     "data": {
      "text/plain": [
       "24388"
      ]
     },
     "execution_count": 28,
     "metadata": {},
     "output_type": "execute_result"
    }
   ],
   "source": []
  },
  {
   "cell_type": "code",
   "execution_count": 29,
   "metadata": {},
   "outputs": [
    {
     "data": {
      "text/plain": [
       "24388"
      ]
     },
     "execution_count": 29,
     "metadata": {},
     "output_type": "execute_result"
    }
   ],
   "source": [
    "all_data['RestaurantId'].nunique()"
   ]
  },
  {
   "cell_type": "code",
   "execution_count": 21,
   "metadata": {},
   "outputs": [
    {
     "data": {
      "text/plain": [
       "43"
      ]
     },
     "execution_count": 21,
     "metadata": {},
     "output_type": "execute_result"
    }
   ],
   "source": [
    "len(all_data['District'].unique())"
   ]
  },
  {
   "cell_type": "code",
   "execution_count": 7,
   "metadata": {},
   "outputs": [
    {
     "data": {
      "text/html": [
       "<div>\n",
       "<style scoped>\n",
       "    .dataframe tbody tr th:only-of-type {\n",
       "        vertical-align: middle;\n",
       "    }\n",
       "\n",
       "    .dataframe tbody tr th {\n",
       "        vertical-align: top;\n",
       "    }\n",
       "\n",
       "    .dataframe thead th {\n",
       "        text-align: right;\n",
       "    }\n",
       "</style>\n",
       "<table border=\"1\" class=\"dataframe\">\n",
       "  <thead>\n",
       "    <tr style=\"text-align: right;\">\n",
       "      <th></th>\n",
       "      <th>ReviewUrl</th>\n",
       "      <th>Name</th>\n",
       "      <th>Address</th>\n",
       "      <th>District</th>\n",
       "      <th>RestaurantId</th>\n",
       "      <th>RestaurantStatus</th>\n",
       "      <th>AvgRating</th>\n",
       "      <th>TotalPictures</th>\n",
       "      <th>TotalSaves</th>\n",
       "      <th>TotalReviews</th>\n",
       "      <th>...</th>\n",
       "      <th>Chất lượng</th>\n",
       "      <th>Phục vụ</th>\n",
       "      <th>Không gian</th>\n",
       "      <th>Điểm</th>\n",
       "      <th>Total_views</th>\n",
       "      <th>Giờ nhận khách cuối</th>\n",
       "      <th>Thời gian chuẩn bị</th>\n",
       "      <th>Sức chứa</th>\n",
       "      <th>Thông tin thêm</th>\n",
       "      <th>Active</th>\n",
       "    </tr>\n",
       "  </thead>\n",
       "  <tbody>\n",
       "    <tr>\n",
       "      <th>0</th>\n",
       "      <td>/ho-chi-minh/crystal-jade-palace-legend-lounge...</td>\n",
       "      <td>Crystal Jade Palace - Lotte Legend Saigon Hotel\"'</td>\n",
       "      <td>Legend Hotel, 2A - 4A Tôn Đức Thắng, P. Bến Nghé'</td>\n",
       "      <td>Quận 1</td>\n",
       "      <td>NaN</td>\n",
       "      <td>NaN</td>\n",
       "      <td>NaN</td>\n",
       "      <td>NaN</td>\n",
       "      <td>NaN</td>\n",
       "      <td>NaN</td>\n",
       "      <td>...</td>\n",
       "      <td>9.7</td>\n",
       "      <td>9.5</td>\n",
       "      <td>9.6</td>\n",
       "      <td>9.5</td>\n",
       "      <td>62.2K lượt xem</td>\n",
       "      <td>10:00 PM</td>\n",
       "      <td>Khoảng 5 - 10 phút</td>\n",
       "      <td>150 người lớn</td>\n",
       "      <td>NaN</td>\n",
       "      <td>True</td>\n",
       "    </tr>\n",
       "    <tr>\n",
       "      <th>1</th>\n",
       "      <td>/ho-chi-minh/yoshino-japanese-restaurant-lotte...</td>\n",
       "      <td>Yoshino Japanese Restaurant - Lotte Hotel Saig...</td>\n",
       "      <td>Lotte Legend Hotel, 2A - 4A Tôn Đức Thắng, P. ...</td>\n",
       "      <td>Quận 1</td>\n",
       "      <td>NaN</td>\n",
       "      <td>NaN</td>\n",
       "      <td>NaN</td>\n",
       "      <td>NaN</td>\n",
       "      <td>NaN</td>\n",
       "      <td>NaN</td>\n",
       "      <td>...</td>\n",
       "      <td>7.0</td>\n",
       "      <td>7.9</td>\n",
       "      <td>8.2</td>\n",
       "      <td>7.5</td>\n",
       "      <td>8.0K lượt xem</td>\n",
       "      <td>09:30 PM</td>\n",
       "      <td>Khoảng 5 - 10 phút</td>\n",
       "      <td>150 người lớn</td>\n",
       "      <td>NaN</td>\n",
       "      <td>True</td>\n",
       "    </tr>\n",
       "    <tr>\n",
       "      <th>2</th>\n",
       "      <td>/ho-chi-minh/fuji-teppanyaki-sushi/binh-luan</td>\n",
       "      <td>Fuji Japanese Restaurant 富士 - Nikko Saigon Hot...</td>\n",
       "      <td>Tầng Trệt Nikko Saigon Hotel, 235 Nguyễn Văn C...</td>\n",
       "      <td>Quận 1</td>\n",
       "      <td>NaN</td>\n",
       "      <td>NaN</td>\n",
       "      <td>NaN</td>\n",
       "      <td>NaN</td>\n",
       "      <td>NaN</td>\n",
       "      <td>NaN</td>\n",
       "      <td>...</td>\n",
       "      <td>8.5</td>\n",
       "      <td>8.3</td>\n",
       "      <td>8.2</td>\n",
       "      <td>8.0</td>\n",
       "      <td>56.8K lượt xem</td>\n",
       "      <td>10:00 PM</td>\n",
       "      <td>Khoảng 5 - 10 phút</td>\n",
       "      <td>200 người lớn</td>\n",
       "      <td>NaN</td>\n",
       "      <td>True</td>\n",
       "    </tr>\n",
       "    <tr>\n",
       "      <th>3</th>\n",
       "      <td>/ho-chi-minh/ming-court-chinese-restaurant-nik...</td>\n",
       "      <td>Ming Court Restaurant - Hotel Nikko Saigon\"'</td>\n",
       "      <td>Hotel Nikko Saigon, 235 Nguyễn Văn Cừ, P. Phạm...</td>\n",
       "      <td>Quận 1</td>\n",
       "      <td>NaN</td>\n",
       "      <td>NaN</td>\n",
       "      <td>NaN</td>\n",
       "      <td>NaN</td>\n",
       "      <td>NaN</td>\n",
       "      <td>NaN</td>\n",
       "      <td>...</td>\n",
       "      <td>7.9</td>\n",
       "      <td>8.5</td>\n",
       "      <td>8.4</td>\n",
       "      <td>8.1</td>\n",
       "      <td>10.6K lượt xem</td>\n",
       "      <td>09:45 PM</td>\n",
       "      <td>Khoảng 10 - 15 phút</td>\n",
       "      <td>202 người lớn</td>\n",
       "      <td>NaN</td>\n",
       "      <td>True</td>\n",
       "    </tr>\n",
       "    <tr>\n",
       "      <th>4</th>\n",
       "      <td>/ho-chi-minh/la-brasserie-nikko-saigon/binh-luan</td>\n",
       "      <td>La Brasserie Restaurant - Hotel Nikko Saigon\"'</td>\n",
       "      <td>Hotel Nikko Saigon, 235 Nguyễn Văn Cừ'</td>\n",
       "      <td>Quận 1</td>\n",
       "      <td>NaN</td>\n",
       "      <td>NaN</td>\n",
       "      <td>NaN</td>\n",
       "      <td>NaN</td>\n",
       "      <td>NaN</td>\n",
       "      <td>NaN</td>\n",
       "      <td>...</td>\n",
       "      <td>8.1</td>\n",
       "      <td>8.2</td>\n",
       "      <td>8.4</td>\n",
       "      <td>8.0</td>\n",
       "      <td>185.0K lượt xem</td>\n",
       "      <td>10:00 PM</td>\n",
       "      <td>Khoảng 10 - 15 phút</td>\n",
       "      <td>250 người lớn</td>\n",
       "      <td>NaN</td>\n",
       "      <td>True</td>\n",
       "    </tr>\n",
       "  </tbody>\n",
       "</table>\n",
       "<p>5 rows × 33 columns</p>\n",
       "</div>"
      ],
      "text/plain": [
       "                                           ReviewUrl  \\\n",
       "0  /ho-chi-minh/crystal-jade-palace-legend-lounge...   \n",
       "1  /ho-chi-minh/yoshino-japanese-restaurant-lotte...   \n",
       "2       /ho-chi-minh/fuji-teppanyaki-sushi/binh-luan   \n",
       "3  /ho-chi-minh/ming-court-chinese-restaurant-nik...   \n",
       "4   /ho-chi-minh/la-brasserie-nikko-saigon/binh-luan   \n",
       "\n",
       "                                                Name  \\\n",
       "0  Crystal Jade Palace - Lotte Legend Saigon Hotel\"'   \n",
       "1  Yoshino Japanese Restaurant - Lotte Hotel Saig...   \n",
       "2  Fuji Japanese Restaurant 富士 - Nikko Saigon Hot...   \n",
       "3       Ming Court Restaurant - Hotel Nikko Saigon\"'   \n",
       "4     La Brasserie Restaurant - Hotel Nikko Saigon\"'   \n",
       "\n",
       "                                             Address District  RestaurantId  \\\n",
       "0  Legend Hotel, 2A - 4A Tôn Đức Thắng, P. Bến Nghé'   Quận 1           NaN   \n",
       "1  Lotte Legend Hotel, 2A - 4A Tôn Đức Thắng, P. ...   Quận 1           NaN   \n",
       "2  Tầng Trệt Nikko Saigon Hotel, 235 Nguyễn Văn C...   Quận 1           NaN   \n",
       "3  Hotel Nikko Saigon, 235 Nguyễn Văn Cừ, P. Phạm...   Quận 1           NaN   \n",
       "4             Hotel Nikko Saigon, 235 Nguyễn Văn Cừ'   Quận 1           NaN   \n",
       "\n",
       "   RestaurantStatus  AvgRating  TotalPictures  TotalSaves  TotalReviews  ...  \\\n",
       "0               NaN        NaN            NaN         NaN           NaN  ...   \n",
       "1               NaN        NaN            NaN         NaN           NaN  ...   \n",
       "2               NaN        NaN            NaN         NaN           NaN  ...   \n",
       "3               NaN        NaN            NaN         NaN           NaN  ...   \n",
       "4               NaN        NaN            NaN         NaN           NaN  ...   \n",
       "\n",
       "   Chất lượng  Phục vụ  Không gian  Điểm      Total_views Giờ nhận khách cuối  \\\n",
       "0         9.7      9.5         9.6   9.5   62.2K lượt xem            10:00 PM   \n",
       "1         7.0      7.9         8.2   7.5    8.0K lượt xem            09:30 PM   \n",
       "2         8.5      8.3         8.2   8.0   56.8K lượt xem            10:00 PM   \n",
       "3         7.9      8.5         8.4   8.1   10.6K lượt xem            09:45 PM   \n",
       "4         8.1      8.2         8.4   8.0  185.0K lượt xem            10:00 PM   \n",
       "\n",
       "    Thời gian chuẩn bị       Sức chứa  Thông tin thêm  Active  \n",
       "0   Khoảng 5 - 10 phút  150 người lớn             NaN    True  \n",
       "1   Khoảng 5 - 10 phút  150 người lớn             NaN    True  \n",
       "2   Khoảng 5 - 10 phút  200 người lớn             NaN    True  \n",
       "3  Khoảng 10 - 15 phút  202 người lớn             NaN    True  \n",
       "4  Khoảng 10 - 15 phút  250 người lớn             NaN    True  \n",
       "\n",
       "[5 rows x 33 columns]"
      ]
     },
     "execution_count": 7,
     "metadata": {},
     "output_type": "execute_result"
    }
   ],
   "source": [
    "huy.head()"
   ]
  }
 ],
 "metadata": {
  "kernelspec": {
   "display_name": "Python 3.9.6 64-bit",
   "language": "python",
   "name": "python3"
  },
  "language_info": {
   "codemirror_mode": {
    "name": "ipython",
    "version": 3
   },
   "file_extension": ".py",
   "mimetype": "text/x-python",
   "name": "python",
   "nbconvert_exporter": "python",
   "pygments_lexer": "ipython3",
   "version": "3.9.6"
  },
  "orig_nbformat": 4,
  "vscode": {
   "interpreter": {
    "hash": "0d591c6e422414675974e227c13f5382000c440fedd3c5006ef2be5d887f0ba7"
   }
  }
 },
 "nbformat": 4,
 "nbformat_minor": 2
}
